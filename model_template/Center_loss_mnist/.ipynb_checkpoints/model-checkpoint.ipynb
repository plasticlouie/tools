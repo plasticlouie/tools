{
 "cells": [
  {
   "cell_type": "code",
   "execution_count": 1,
   "metadata": {},
   "outputs": [
    {
     "data": {
      "text/plain": [
       "{}"
      ]
     },
     "execution_count": 1,
     "metadata": {},
     "output_type": "execute_result"
    }
   ],
   "source": [
    "import common\n",
    "reload(common)\n",
    "from common import *\n",
    "import numpy as np\n",
    "log_collector = Log_collector('./test_space')\n",
    "log_collector.log_dict"
   ]
  },
  {
   "cell_type": "code",
   "execution_count": 7,
   "metadata": {},
   "outputs": [
    {
     "name": "stdout",
     "output_type": "stream",
     "text": [
      "[[1, 2], [3, 4]]\n",
      "[[1 2]\n",
      " [3 4]]\n"
     ]
    }
   ],
   "source": [
    "a = np.asarray([[1,2],[3,4]])\n",
    "print np.ndarray.tolist(a)\n",
    "print np.asarray(np.ndarray.tolist(a))"
   ]
  },
  {
   "cell_type": "code",
   "execution_count": 6,
   "metadata": {},
   "outputs": [
    {
     "name": "stdout",
     "output_type": "stream",
     "text": [
      "[u'string']\n",
      "<type 'numpy.ndarray'>\n"
     ]
    }
   ],
   "source": [
    "import scipy.io\n",
    "mat1 = {'string':'string'}\n",
    "mat2 = {'list':[1,2,3]}\n",
    "\n",
    "scipy.io.savemat('./test_space/mat1.mat',mat1)\n",
    "scipy.io.savemat('./test_space/mat2.mat',mat2)\n",
    "\n",
    "mat1 = scipy.io.loadmat('./test_space/mat1.mat')\n",
    "mat2 = scipy.io.loadmat('./test_space/mat2.mat')\n",
    "\n",
    "print mat1['string']\n",
    "print mat2['list']"
   ]
  },
  {
   "cell_type": "code",
   "execution_count": 2,
   "metadata": {},
   "outputs": [
    {
     "name": "stdout",
     "output_type": "stream",
     "text": [
      "acc: <type 'float'>\n",
      "loss: <type 'int'>\n",
      "description: <type 'str'>\n",
      "epoch: <type 'int'>\n",
      "np: <type 'list'>\n"
     ]
    }
   ],
   "source": [
    "epoch = np.asarray([1,2,3,4,5,6,7])\n",
    "loss = [60,50,40,30,20,10,1]\n",
    "acc = [0.1, 0.2, 0.3, 0.4, 0.5, 0.6, 0.9]\n",
    "useless = [1,2,3,4,5,6,7]\n",
    "np_value1 = np.asarray([[1,2],[3,4]])\n",
    "np_value2 = np.asarray([[5,6],[7,8]])\n",
    "log_collector.add_log('description','center loss')\n",
    "log_collector.add_log('description','data:mnist')\n",
    "log_collector.add_log('description','visualization')\n",
    "log_collector.add_log('loss',loss)\n",
    "log_collector.add_log('acc',acc)\n",
    "log_collector.add_log('useless',acc)\n",
    "log_collector.add_log('epoch',epoch)\n",
    "log_collector.clear_log('useless')\n",
    "log_collector.add_log('np',np_value1)\n",
    "log_collector.add_log('np',np_value2)\n",
    "log_collector.display_log()"
   ]
  },
  {
   "cell_type": "code",
   "execution_count": 14,
   "metadata": {},
   "outputs": [
    {
     "name": "stdout",
     "output_type": "stream",
     "text": [
      "{'description': array([u'center loss'], dtype='<U11'), '__version__': '1.0', '__header__': 'MATLAB 5.0 MAT-file Platform: posix, Created on: Mon Jun 25 20:55:01 2018', '__globals__': []}\n"
     ]
    },
    {
     "ename": "TypeError",
     "evalue": "expected a string or other character buffer object",
     "output_type": "error",
     "traceback": [
      "\u001b[0;31m---------------------------------------------------------------------------\u001b[0m",
      "\u001b[0;31mTypeError\u001b[0m                                 Traceback (most recent call last)",
      "\u001b[0;32m<ipython-input-14-9d6c9b46d687>\u001b[0m in \u001b[0;36m<module>\u001b[0;34m()\u001b[0m\n\u001b[1;32m      2\u001b[0m \u001b[0;32mprint\u001b[0m \u001b[0mmat_dict\u001b[0m\u001b[0;34m\u001b[0m\u001b[0m\n\u001b[1;32m      3\u001b[0m \u001b[0mf\u001b[0m \u001b[0;34m=\u001b[0m \u001b[0mopen\u001b[0m\u001b[0;34m(\u001b[0m\u001b[0;34m'./test_space/test_dict.txt'\u001b[0m\u001b[0;34m,\u001b[0m\u001b[0;34m'w'\u001b[0m\u001b[0;34m)\u001b[0m\u001b[0;34m\u001b[0m\u001b[0m\n\u001b[0;32m----> 4\u001b[0;31m \u001b[0mf\u001b[0m\u001b[0;34m.\u001b[0m\u001b[0mwrite\u001b[0m\u001b[0;34m(\u001b[0m\u001b[0mmat_dict\u001b[0m\u001b[0;34m)\u001b[0m\u001b[0;34m\u001b[0m\u001b[0m\n\u001b[0m\u001b[1;32m      5\u001b[0m \u001b[0mf\u001b[0m\u001b[0;34m.\u001b[0m\u001b[0mclose\u001b[0m\u001b[0;34m(\u001b[0m\u001b[0;34m)\u001b[0m\u001b[0;34m\u001b[0m\u001b[0m\n",
      "\u001b[0;31mTypeError\u001b[0m: expected a string or other character buffer object"
     ]
    }
   ],
   "source": [
    "mat_dict = scipy.io.loadmat('./test_space/description.mat')\n",
    "print mat_dict\n",
    "f = open('./test_space/test_dict.txt','w')\n",
    "f.write(mat_dict)\n",
    "f.close()"
   ]
  },
  {
   "cell_type": "code",
   "execution_count": 3,
   "metadata": {},
   "outputs": [],
   "source": [
    "#log_collector.write_log(['epoch','loss','acc'])\n",
    "log_collector.write_log()"
   ]
  },
  {
   "cell_type": "code",
   "execution_count": 7,
   "metadata": {},
   "outputs": [
    {
     "data": {
      "text/plain": [
       "True"
      ]
     },
     "execution_count": 7,
     "metadata": {},
     "output_type": "execute_result"
    }
   ],
   "source": [
    "type([1]) is list"
   ]
  },
  {
   "cell_type": "code",
   "execution_count": 7,
   "metadata": {},
   "outputs": [
    {
     "data": {
      "text/plain": [
       "{'loss': [0, 0, 0, 1, 2, 3]}"
      ]
     },
     "execution_count": 7,
     "metadata": {},
     "output_type": "execute_result"
    }
   ],
   "source": [
    "log_collector.log_dict"
   ]
  },
  {
   "cell_type": "code",
   "execution_count": 1,
   "metadata": {},
   "outputs": [
    {
     "name": "stderr",
     "output_type": "stream",
     "text": [
      "/home/deerx/husen/anaconda2/lib/python2.7/site-packages/h5py/__init__.py:34: FutureWarning: Conversion of the second argument of issubdtype from `float` to `np.floating` is deprecated. In future, it will be treated as `np.float64 == np.dtype(float).type`.\n",
      "  from ._conv import register_converters as _register_converters\n"
     ]
    },
    {
     "name": "stdout",
     "output_type": "stream",
     "text": [
      "Extracting /data/mnist/train-images-idx3-ubyte.gz\n",
      "Extracting /data/mnist/train-labels-idx1-ubyte.gz\n",
      "Extracting /data/mnist/t10k-images-idx3-ubyte.gz\n",
      "Extracting /data/mnist/t10k-labels-idx1-ubyte.gz\n"
     ]
    }
   ],
   "source": [
    "import time\n",
    "import numpy as np\n",
    "import tensorflow as tf\n",
    "import tensorflow.contrib.slim as slim\n",
    "from tensorflow.examples.tutorials.mnist import input_data\n",
    "import data\n",
    "from model import *\n",
    "from data import color_map\n",
    "from config import Config\n",
    "tic = time.time\n",
    "\n",
    "# tf_mnist = input_data.read_data_sets('/data/mnist', one_hot=False)\n",
    "\n",
    "# mnist.train.next_batch(batch_size\n",
    "# mnist.test.images)\n",
    "# mnist.test.labels)\n"
   ]
  },
  {
   "cell_type": "code",
   "execution_count": 2,
   "metadata": {},
   "outputs": [
    {
     "name": "stdout",
     "output_type": "stream",
     "text": [
      "\n",
      "Configurations:\n",
      "alpha                          0.5\n",
      "beta                           0.5\n",
      "center_dim                     2\n",
      "ckpt_dir                       /data/checkpoints/center_loss/center_loss/2018-06-25-16-54-54/snapshots\n",
      "ckpt_path                      /data/checkpoints/center_loss/center_loss/2018-06-25-16-54-54/snapshots/net.ckpt\n",
      "data_dir                       /data/mnist\n",
      "image_shape                    (28, 28)\n",
      "log_dir                        /data/checkpoints/center_loss/center_loss/2018-06-25-16-54-54/log\n",
      "log_path                       /data/checkpoints/center_loss/center_loss/2018-06-25-16-54-54/log/log.txt\n",
      "lr                             0.01\n",
      "model_dir                      /data/checkpoints/center_loss\n",
      "model_name                     center_loss\n",
      "num_classes                    10\n",
      "num_epochs                     3\n",
      "root_dir                       /data/checkpoints/center_loss/center_loss/2018-06-25-16-54-54\n",
      "time_stamp                     2018-06-25-16-54-54\n",
      "\n",
      "\n"
     ]
    }
   ],
   "source": [
    "config = Config()\n",
    "config.num_epochs = 3\n",
    "config.display()\n",
    "log_collector = Log_collector(config.log_dir)"
   ]
  },
  {
   "cell_type": "markdown",
   "metadata": {},
   "source": [
    "## Train center loss model"
   ]
  },
  {
   "cell_type": "code",
   "execution_count": 3,
   "metadata": {},
   "outputs": [
    {
     "name": "stdout",
     "output_type": "stream",
     "text": [
      "(10, 2)\n",
      "conv1 : (?, 28, 28, 32) <dtype: 'float32'>\n",
      "conv2 : (?, 14, 14, 64) <dtype: 'float32'>\n",
      "conv3 : (?, 7, 7, 128) <dtype: 'float32'>\n",
      "batch_centers : (?, 2) <dtype: 'float32'>\n",
      "center_loss : (?, 2) <dtype: 'float32'>\n",
      "center_loss : (?,) <dtype: 'float32'>\n"
     ]
    }
   ],
   "source": [
    "model = mnist_center_loss_model(config)"
   ]
  },
  {
   "cell_type": "code",
   "execution_count": 4,
   "metadata": {},
   "outputs": [
    {
     "name": "stdout",
     "output_type": "stream",
     "text": [
      "Extracting /data/mnist/train-images-idx3-ubyte.gz\n",
      "Extracting /data/mnist/train-labels-idx1-ubyte.gz\n",
      "Extracting /data/mnist/t10k-images-idx3-ubyte.gz\n",
      "Extracting /data/mnist/t10k-labels-idx1-ubyte.gz\n",
      "epoch:0 loss:0.822057 val_acc:0.949000\n",
      "epoch:1 loss:0.292164 val_acc:0.970800\n",
      "epoch:2 loss:0.294844 val_acc:0.980000\n"
     ]
    }
   ],
   "source": [
    "\n",
    "mnist = data.mnist_data(config.data_dir)\n",
    "\n",
    "sess = tf.Session()\n",
    "sess.run(tf.global_variables_initializer())\n",
    "\n",
    "\n",
    "\n",
    "max_acc = 0.\n",
    "\n",
    "time_log = 0.\n",
    "time_ckpt = 0.\n",
    "time_train = 0.\n",
    "time_val = 0.\n",
    "\n",
    "#config.update_time()\n",
    "for i in range(config.num_epochs):\n",
    "    t1 = tic()\n",
    "    for batch_images, batch_labels in mnist.train_generator():\n",
    "        result = model.train_on_batch(sess, batch_images, batch_labels)\n",
    "    t2 = tic()\n",
    "    time_train += (t2-t1)\n",
    "        \n",
    "    t1 = tic()\n",
    "    val_acc = model.test_acc_on_generator(sess, mnist.val_generator())\n",
    "    t2 = tic()\n",
    "    time_val += (t2-t1)\n",
    "    \n",
    "    t1 = tic()\n",
    "    log_collector.add_log('epoch', i)\n",
    "    log_collector.add_log('val_acc', val_acc)\n",
    "    log_collector.add_log('loss', result['loss'])\n",
    "    t2 = tic()\n",
    "    time_log += (t2-t1)\n",
    "    \n",
    "    temp_log = 'epoch:{} loss:{:8f} val_acc:{:4f}'.format(i, result['loss'],val_acc)\n",
    "    print temp_log\n",
    "    \n",
    "    t1 = tic()\n",
    "    model.saver.save(sess,join(config.ckpt_path),global_step=i)\n",
    "    t2 = tic()\n",
    "    time_ckpt += (t2-t1)\n",
    "    \n",
    "    if val_acc > max_acc:\n",
    "        model.saver.save(sess,join(config.ckpt_path))\n",
    "\n",
    "time_used = t2 - t1\n"
   ]
  },
  {
   "cell_type": "code",
   "execution_count": 6,
   "metadata": {},
   "outputs": [
    {
     "name": "stdout",
     "output_type": "stream",
     "text": [
      "time_train 240.55041337\n",
      "time_val 1.44945025444\n",
      "time_log 7.58171081543e-05\n",
      "time_ckpt 0.855117082596\n"
     ]
    }
   ],
   "source": [
    "print \"time_train\",time_train\n",
    "print \"time_val\",time_val\n",
    "print \"time_log\",time_log\n",
    "print \"time_ckpt\",time_ckpt"
   ]
  },
  {
   "cell_type": "code",
   "execution_count": 7,
   "metadata": {
    "collapsed": true
   },
   "outputs": [],
   "source": [
    "log_collector.write_log()"
   ]
  },
  {
   "cell_type": "code",
   "execution_count": 8,
   "metadata": {},
   "outputs": [
    {
     "name": "stdout",
     "output_type": "stream",
     "text": [
      "loss: (3,)\n",
      "epoch: (3,)\n",
      "val_acc: (3,)\n"
     ]
    },
    {
     "data": {
      "text/plain": [
       "'/data/checkpoints/center_loss/center_loss/2018-06-25-16-54-54/log'"
      ]
     },
     "execution_count": 8,
     "metadata": {},
     "output_type": "execute_result"
    }
   ],
   "source": [
    "log_collector.display_log()\n",
    "log_collector.log_dir"
   ]
  },
  {
   "cell_type": "code",
   "execution_count": 3,
   "metadata": {},
   "outputs": [
    {
     "name": "stdout",
     "output_type": "stream",
     "text": [
      "acc:  0.9898\n"
     ]
    }
   ],
   "source": [
    "acc = model.test_acc_on_generator(sess, val_generator)\n",
    "print 'acc: ',acc"
   ]
  },
  {
   "cell_type": "code",
   "execution_count": 9,
   "metadata": {},
   "outputs": [
    {
     "name": "stdout",
     "output_type": "stream",
     "text": [
      "INFO:tensorflow:Restoring parameters from /data/checkpoints/center_loss/center_loss/2018-06-25-16-54-54/snapshots/net.ckpt\n"
     ]
    }
   ],
   "source": [
    "restore = True\n",
    "if restore:\n",
    "    model.saver.restore(sess, config.ckpt_path)\n",
    "    \n",
    "val_generator = mnist.val_generator()\n",
    "features, labels = model.compute_features_on_generator(sess, val_generator, num_batches=20)\n"
   ]
  },
  {
   "cell_type": "code",
   "execution_count": 10,
   "metadata": {},
   "outputs": [
    {
     "name": "stdout",
     "output_type": "stream",
     "text": [
      "(1000, 2)\n",
      "(1000,)\n"
     ]
    },
    {
     "name": "stderr",
     "output_type": "stream",
     "text": [
      "/home/deerx/husen/anaconda2/lib/python2.7/site-packages/ipykernel_launcher.py:7: MatplotlibDeprecationWarning: pyplot.hold is deprecated.\n",
      "    Future behavior will be consistent with the long-time default:\n",
      "    plot commands add elements without first clearing the\n",
      "    Axes and/or Figure.\n",
      "  import sys\n",
      "/home/deerx/husen/anaconda2/lib/python2.7/site-packages/matplotlib/__init__.py:917: UserWarning: axes.hold is deprecated. Please remove it from your matplotlibrc and/or style files.\n",
      "  warnings.warn(self.msg_depr_set % key)\n",
      "/home/deerx/husen/anaconda2/lib/python2.7/site-packages/matplotlib/rcsetup.py:152: UserWarning: axes.hold is deprecated, will be removed in 3.0\n",
      "  warnings.warn(\"axes.hold is deprecated, will be removed in 3.0\")\n"
     ]
    },
    {
     "data": {
      "image/png": "[encoded data removed]",
      "text/plain": [
       "<matplotlib.figure.Figure at 0x7fc240795310>"
      ]
     },
     "metadata": {},
     "output_type": "display_data"
    }
   ],
   "source": [
    "import matplotlib.pyplot as plt\n",
    "print features.shape\n",
    "print labels.shape\n",
    "\n",
    "plt.ion()\n",
    "plt.figure()\n",
    "plt.hold(True)\n",
    "for i in range(model.num_classes):\n",
    "    x = features[labels==i,0]\n",
    "    y = features[labels==i,1]\n",
    "    plt.plot(x,y,'.',color=color_map[i])\n",
    "    plt.plot(model.np_centers[i,0],model.np_centers[i,1],'o',color=color_map[i])\n",
    "    plt.plot(model.np_centers[i,0],model.np_centers[i,1],'.',color='k')"
   ]
  }
 ],
 "metadata": {
  "kernelspec": {
   "display_name": "Python 2",
   "language": "python",
   "name": "python2"
  },
  "language_info": {
   "codemirror_mode": {
    "name": "ipython",
    "version": 2
   },
   "file_extension": ".py",
   "mimetype": "text/x-python",
   "name": "python",
   "nbconvert_exporter": "python",
   "pygments_lexer": "ipython2",
   "version": "2.7.13"
  }
 },
 "nbformat": 4,
 "nbformat_minor": 2
}
